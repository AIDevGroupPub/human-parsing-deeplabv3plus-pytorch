{
 "cells": [
  {
   "cell_type": "code",
   "execution_count": 1,
   "metadata": {},
   "outputs": [
    {
     "name": "stdout",
     "output_type": "stream",
     "text": [
      "data/train/003869.jpg\n",
      "data/train/003869.png\n",
      "Number of train images:  44071\n",
      "Number of val images:  11018\n"
     ]
    },
    {
     "name": "stderr",
     "output_type": "stream",
     "text": [
      "\r",
      "  0%|          | 0/1378 [00:00<?, ?it/s]"
     ]
    },
    {
     "name": "stdout",
     "output_type": "stream",
     "text": [
      "Epoch/EpochNum | TrainLoss | ValidmIoU | Time(m)\n"
     ]
    },
    {
     "name": "stderr",
     "output_type": "stream",
     "text": [
      "100%|██████████| 1378/1378 [07:36<00:00,  3.02it/s]\n"
     ]
    },
    {
     "name": "stdout",
     "output_type": "stream",
     "text": [
      "0.972\t0.85\n",
      "    1/      20 |     0.128 |     0.911 |      8.86"
     ]
    },
    {
     "name": "stderr",
     "output_type": "stream",
     "text": [
      "\r",
      "  0%|          | 0/1378 [00:00<?, ?it/s]"
     ]
    },
    {
     "name": "stdout",
     "output_type": "stream",
     "text": [
      "  valid mIoU is improved. the model is saved.\n"
     ]
    },
    {
     "name": "stderr",
     "output_type": "stream",
     "text": [
      "100%|██████████| 1378/1378 [07:40<00:00,  2.99it/s]\n"
     ]
    },
    {
     "name": "stdout",
     "output_type": "stream",
     "text": [
      "0.974\t0.864\n",
      "    2/      20 |     0.088 |     0.919 |      8.59"
     ]
    },
    {
     "name": "stderr",
     "output_type": "stream",
     "text": [
      "\r",
      "  0%|          | 0/1378 [00:00<?, ?it/s]"
     ]
    },
    {
     "name": "stdout",
     "output_type": "stream",
     "text": [
      "  valid mIoU is improved. the model is saved.\n"
     ]
    },
    {
     "name": "stderr",
     "output_type": "stream",
     "text": [
      "100%|██████████| 1378/1378 [08:11<00:00,  2.80it/s]\n"
     ]
    },
    {
     "name": "stdout",
     "output_type": "stream",
     "text": [
      "0.974\t0.866\n",
      "    3/      20 |     0.086 |     0.920 |      9.09"
     ]
    },
    {
     "name": "stderr",
     "output_type": "stream",
     "text": [
      "\r",
      "  0%|          | 0/1378 [00:00<?, ?it/s]"
     ]
    },
    {
     "name": "stdout",
     "output_type": "stream",
     "text": [
      "  valid mIoU is improved. the model is saved.\n"
     ]
    },
    {
     "name": "stderr",
     "output_type": "stream",
     "text": [
      "100%|██████████| 1378/1378 [07:40<00:00,  2.99it/s]\n"
     ]
    },
    {
     "name": "stdout",
     "output_type": "stream",
     "text": [
      "0.975\t0.872\n",
      "    4/      20 |     0.079 |     0.923 |      8.58"
     ]
    },
    {
     "name": "stderr",
     "output_type": "stream",
     "text": [
      "\r",
      "  0%|          | 0/1378 [00:00<?, ?it/s]"
     ]
    },
    {
     "name": "stdout",
     "output_type": "stream",
     "text": [
      "  valid mIoU is improved. the model is saved.\n"
     ]
    },
    {
     "name": "stderr",
     "output_type": "stream",
     "text": [
      "100%|██████████| 1378/1378 [07:43<00:00,  2.97it/s]\n"
     ]
    },
    {
     "name": "stdout",
     "output_type": "stream",
     "text": [
      "0.977\t0.88\n",
      "    5/      20 |     0.072 |     0.928 |      8.63"
     ]
    },
    {
     "name": "stderr",
     "output_type": "stream",
     "text": [
      "\r",
      "  0%|          | 0/1378 [00:00<?, ?it/s]"
     ]
    },
    {
     "name": "stdout",
     "output_type": "stream",
     "text": [
      "  valid mIoU is improved. the model is saved.\n"
     ]
    },
    {
     "name": "stderr",
     "output_type": "stream",
     "text": [
      "100%|██████████| 1378/1378 [07:41<00:00,  2.99it/s]\n"
     ]
    },
    {
     "name": "stdout",
     "output_type": "stream",
     "text": [
      "0.978\t0.884\n",
      "    6/      20 |     0.066 |     0.931 |      8.61"
     ]
    },
    {
     "name": "stderr",
     "output_type": "stream",
     "text": [
      "\r",
      "  0%|          | 0/1378 [00:00<?, ?it/s]"
     ]
    },
    {
     "name": "stdout",
     "output_type": "stream",
     "text": [
      "  valid mIoU is improved. the model is saved.\n"
     ]
    },
    {
     "name": "stderr",
     "output_type": "stream",
     "text": [
      "100%|██████████| 1378/1378 [07:38<00:00,  3.01it/s]\n",
      "  0%|          | 0/1378 [00:00<?, ?it/s]"
     ]
    },
    {
     "name": "stdout",
     "output_type": "stream",
     "text": [
      "0.975\t0.87\n",
      "    7/      20 |     0.074 |     0.923 |      8.57\n"
     ]
    },
    {
     "name": "stderr",
     "output_type": "stream",
     "text": [
      "100%|██████████| 1378/1378 [07:39<00:00,  3.00it/s]\n",
      "  0%|          | 0/1378 [00:00<?, ?it/s]"
     ]
    },
    {
     "name": "stdout",
     "output_type": "stream",
     "text": [
      "0.976\t0.876\n",
      "    8/      20 |     0.072 |     0.926 |      8.58\n"
     ]
    },
    {
     "name": "stderr",
     "output_type": "stream",
     "text": [
      "100%|██████████| 1378/1378 [07:38<00:00,  3.00it/s]\n",
      "  0%|          | 0/1378 [00:00<?, ?it/s]"
     ]
    },
    {
     "name": "stdout",
     "output_type": "stream",
     "text": [
      "0.977\t0.875\n",
      "    9/      20 |     0.069 |     0.926 |      8.58\n"
     ]
    },
    {
     "name": "stderr",
     "output_type": "stream",
     "text": [
      "100%|██████████| 1378/1378 [07:35<00:00,  3.03it/s]\n",
      "  0%|          | 0/1378 [00:00<?, ?it/s]"
     ]
    },
    {
     "name": "stdout",
     "output_type": "stream",
     "text": [
      "0.976\t0.878\n",
      "   10/      20 |     0.065 |     0.927 |      8.52\n"
     ]
    },
    {
     "name": "stderr",
     "output_type": "stream",
     "text": [
      "100%|██████████| 1378/1378 [07:39<00:00,  3.00it/s]\n"
     ]
    },
    {
     "name": "stdout",
     "output_type": "stream",
     "text": [
      "0.978\t0.885\n",
      "   11/      20 |     0.062 |     0.932 |      8.58"
     ]
    },
    {
     "name": "stderr",
     "output_type": "stream",
     "text": [
      "\r",
      "  0%|          | 0/1378 [00:00<?, ?it/s]"
     ]
    },
    {
     "name": "stdout",
     "output_type": "stream",
     "text": [
      "  valid mIoU is improved. the model is saved.\n"
     ]
    },
    {
     "name": "stderr",
     "output_type": "stream",
     "text": [
      "100%|██████████| 1378/1378 [07:34<00:00,  3.03it/s]\n"
     ]
    },
    {
     "name": "stdout",
     "output_type": "stream",
     "text": [
      "0.979\t0.888\n",
      "   12/      20 |     0.059 |     0.933 |      8.50"
     ]
    },
    {
     "name": "stderr",
     "output_type": "stream",
     "text": [
      "\r",
      "  0%|          | 0/1378 [00:00<?, ?it/s]"
     ]
    },
    {
     "name": "stdout",
     "output_type": "stream",
     "text": [
      "  valid mIoU is improved. the model is saved.\n"
     ]
    },
    {
     "name": "stderr",
     "output_type": "stream",
     "text": [
      "100%|██████████| 1378/1378 [07:34<00:00,  3.03it/s]\n"
     ]
    },
    {
     "name": "stdout",
     "output_type": "stream",
     "text": [
      "0.979\t0.89\n",
      "   13/      20 |     0.057 |     0.934 |      8.49"
     ]
    },
    {
     "name": "stderr",
     "output_type": "stream",
     "text": [
      "\r",
      "  0%|          | 0/1378 [00:00<?, ?it/s]"
     ]
    },
    {
     "name": "stdout",
     "output_type": "stream",
     "text": [
      "  valid mIoU is improved. the model is saved.\n"
     ]
    },
    {
     "name": "stderr",
     "output_type": "stream",
     "text": [
      "100%|██████████| 1378/1378 [07:35<00:00,  3.02it/s]\n"
     ]
    },
    {
     "name": "stdout",
     "output_type": "stream",
     "text": [
      "0.979\t0.891\n",
      "   14/      20 |     0.055 |     0.935 |      8.52"
     ]
    },
    {
     "name": "stderr",
     "output_type": "stream",
     "text": [
      "\r",
      "  0%|          | 0/1378 [00:00<?, ?it/s]"
     ]
    },
    {
     "name": "stdout",
     "output_type": "stream",
     "text": [
      "  valid mIoU is improved. the model is saved.\n"
     ]
    },
    {
     "name": "stderr",
     "output_type": "stream",
     "text": [
      "100%|██████████| 1378/1378 [07:35<00:00,  3.03it/s]\n",
      "  0%|          | 0/1378 [00:00<?, ?it/s]"
     ]
    },
    {
     "name": "stdout",
     "output_type": "stream",
     "text": [
      "0.977\t0.875\n",
      "   15/      20 |     0.065 |     0.926 |      8.52\n"
     ]
    },
    {
     "name": "stderr",
     "output_type": "stream",
     "text": [
      "100%|██████████| 1378/1378 [07:35<00:00,  3.02it/s]\n",
      "  0%|          | 0/1378 [00:00<?, ?it/s]"
     ]
    },
    {
     "name": "stdout",
     "output_type": "stream",
     "text": [
      "0.977\t0.879\n",
      "   16/      20 |     0.064 |     0.928 |      8.52\n"
     ]
    },
    {
     "name": "stderr",
     "output_type": "stream",
     "text": [
      "100%|██████████| 1378/1378 [07:35<00:00,  3.02it/s]\n",
      "  0%|          | 0/1378 [00:00<?, ?it/s]"
     ]
    },
    {
     "name": "stdout",
     "output_type": "stream",
     "text": [
      "0.977\t0.879\n",
      "   17/      20 |     0.062 |     0.928 |      8.54\n"
     ]
    },
    {
     "name": "stderr",
     "output_type": "stream",
     "text": [
      "100%|██████████| 1378/1378 [07:35<00:00,  3.02it/s]\n",
      "  0%|          | 0/1378 [00:00<?, ?it/s]"
     ]
    },
    {
     "name": "stdout",
     "output_type": "stream",
     "text": [
      "0.977\t0.883\n",
      "   18/      20 |     0.061 |     0.930 |      8.51\n"
     ]
    },
    {
     "name": "stderr",
     "output_type": "stream",
     "text": [
      "100%|██████████| 1378/1378 [07:35<00:00,  3.03it/s]\n",
      "  0%|          | 0/1378 [00:00<?, ?it/s]"
     ]
    },
    {
     "name": "stdout",
     "output_type": "stream",
     "text": [
      "0.978\t0.886\n",
      "   19/      20 |     0.059 |     0.932 |      8.51\n"
     ]
    },
    {
     "name": "stderr",
     "output_type": "stream",
     "text": [
      "100%|██████████| 1378/1378 [07:33<00:00,  3.04it/s]\n"
     ]
    },
    {
     "name": "stdout",
     "output_type": "stream",
     "text": [
      "0.978\t0.887\n",
      "   20/      20 |     0.058 |     0.933 |      8.49\n"
     ]
    },
    {
     "data": {
      "image/png": "[encoded data removed]",
      "text/plain": [
       "<Figure size 432x288 with 1 Axes>"
      ]
     },
     "metadata": {
      "needs_background": "light"
     },
     "output_type": "display_data"
    },
    {
     "data": {
      "image/png": "[encoded data removed]",
      "text/plain": [
       "<Figure size 432x288 with 1 Axes>"
      ]
     },
     "metadata": {
      "needs_background": "light"
     },
     "output_type": "display_data"
    }
   ],
   "source": [
    "# -*- coding: utf-8 -*-\n",
    "\"\"\"\n",
    "@author: xinyi\n",
    "ref:\n",
    "1.https://tianchi.aliyun.com/notebook-ai/detail?spm=5176.12586969.1002.3.6cc26423Zxyf0s&postId=169396\n",
    "2.https://github.com/DLLXW/data-science-competition/tree/main/%E5%A4%A9%E6%B1%A0\n",
    "3.https://github.com/JasmineRain/NAIC_AI-RS/tree/ec70861e2a7f3ba18b3cc8bad592e746145088c9\n",
    "\"\"\"\n",
    "import numpy as np\n",
    "import torch\n",
    "import warnings\n",
    "import time\n",
    "from dataProcess import get_dataloader, cal_val_iou, split_train_val\n",
    "import segmentation_models_pytorch as smp\n",
    "import glob\n",
    "from segmentation_models_pytorch.losses import DiceLoss, SoftCrossEntropyLoss, LovaszLoss\n",
    "# from pytorch_toolbelt import losses as L\n",
    "from tqdm import tqdm\n",
    "\n",
    "## 使用自动混合精度训练，在尽可能减少精度损失的情况下利用半精度浮点数加速训练\n",
    "#from torch.cuda.amp import autocast, GradScaler\n",
    "\n",
    "# 忽略警告信息\n",
    "warnings.filterwarnings('ignore')\n",
    "# cuDNN使用的非确定性算法就会自动寻找最适合当前配置的高效算法，来达到优化运行效率的问题        \n",
    "torch.backends.cudnn.enabled = True\n",
    "\n",
    "# Tensor和Numpy都是矩阵,区别是前者可以在GPU上运行,后者只能在CPU上\n",
    "# 但是Tensor和Numpy互相转化很方便\n",
    "# 将模型加载到指定设备DEVICE上\n",
    "DEVICE = 'cuda:0' if torch.cuda.is_available() else 'cpu' \n",
    "\n",
    "\n",
    "def train(EPOCHES, BATCH_SIZE, train_image_paths, train_label_paths, \n",
    "          val_image_paths, val_label_paths, channels, optimizer_name,\n",
    "          model_path, early_stop):\n",
    "    \n",
    "    train_loader = get_dataloader(train_image_paths, train_label_paths, \n",
    "                                  \"train\", BATCH_SIZE, shuffle=True, num_workers=16)\n",
    "    valid_loader = get_dataloader(val_image_paths, val_label_paths, \n",
    "                                  \"val\", BATCH_SIZE, shuffle=False, num_workers=16)\n",
    "    \n",
    "    # for batch_index, (image, target) in enumerate(tqdm(train_loader)):\n",
    "    #     print(batch_index)\n",
    "    \n",
    "    # 定义型,优化器,损失函数\n",
    "    #model = smp.UnetPlusPlus(\n",
    "    #        encoder_name=\"resnet18\",# efficient net  b7\n",
    "     #       encoder_weights=\"imagenet\",\n",
    "   #         in_channels=channels,\n",
    "   #         decoder_attention_type=\"scse\",# None\n",
    "   #         classes=4,#2\n",
    "   # )\n",
    "    \n",
    "    # #----- unet\n",
    "    #model = smp.Unet(\n",
    "    #         encoder_name=\"resnet18\",# efficient net  b7\n",
    "    #         encoder_weights=\"imagenet\",\n",
    "     #        in_channels=channels,\n",
    "    #         decoder_attention_type=\"scse\",# None\n",
    "    #         classes=4,#2\n",
    "    #)\n",
    "    # #----- deeplab\n",
    "    model = smp.DeepLabV3Plus(\n",
    "             encoder_name=\"resnet18\",# efficient net  b7\n",
    "             encoder_weights=\"imagenet\",\n",
    "             in_channels=channels,\n",
    "             classes=2,#2\n",
    "    )\n",
    "    model.to(DEVICE);\n",
    "    \n",
    "    # 采用AdamM优化器\n",
    "    optimizer = torch.optim.AdamW(model.parameters(),\n",
    "                                  lr=1e-4, weight_decay=1e-3)\n",
    "    # 余弦退火调整学习率\n",
    "    scheduler = torch.optim.lr_scheduler.CosineAnnealingWarmRestarts(\n",
    "            optimizer, \n",
    "            T_0=2, # T_0就是初始restart的epoch数目\n",
    "            T_mult=2, # T_mult就是重启之后因子,即每个restart后，T_0 = T_0 * T_mult\n",
    "            eta_min=1e-5 # 最低学习率\n",
    "            )\n",
    "    \n",
    "    # 损失函数采用SoftCrossEntropyLoss+DiceLoss\n",
    "    # diceloss在一定程度上可以缓解类别不平衡,但是训练容易不稳定\n",
    "    # DiceLoss_fn=DiceLoss(mode='multiclass')\n",
    "    # # 软交叉熵,即使用了标签平滑的交叉熵,会增加泛化性\n",
    "    # SoftCrossEntropy_fn=SoftCrossEntropyLoss(smooth_factor=0.1)\n",
    "    # loss_fn = L.JointLoss(first=DiceLoss_fn, second=SoftCrossEntropy_fn,\n",
    "    #                       first_weight=0.5, second_weight=0.5).cuda()\n",
    "    loss_fn = DiceLoss(mode='multiclass')\n",
    "    header = r'Epoch/EpochNum | TrainLoss | ValidmIoU | Time(m)'\n",
    "    raw_line = r'{:5d}/{:8d} | {:9.3f} | {:9.3f} | {:9.2f}'\n",
    "    print(header)\n",
    "\n",
    "    # 记录当前验证集最优mIoU,以判定是否保存当前模型\n",
    "    best_miou = 0\n",
    "    best_miou_epoch = 0\n",
    "    train_loss_epochs, val_mIoU_epochs, lr_epochs = [], [], []\n",
    "    # 开始训练\n",
    "    for epoch in range(1, EPOCHES+1):\n",
    "        # 存储训练集每个batch的loss\n",
    "        losses = []\n",
    "        start_time = time.time()\n",
    "        model.train()\n",
    "        model.to(DEVICE);\n",
    "        for batch_index, (image, target) in enumerate(tqdm(train_loader)):\n",
    "            \n",
    "            image, target = image.to(DEVICE), target.to(DEVICE)\n",
    "            # 在反向传播前要手动将梯度清零\n",
    "            optimizer.zero_grad()\n",
    "            # 模型推理得到输出\n",
    "            output = model(image)\n",
    "            # 求解该batch的loss\n",
    "            loss = loss_fn(output, target)\n",
    "            # 反向传播求解梯度\n",
    "            loss.backward()\n",
    "            # 更新权重参数\n",
    "            optimizer.step()\n",
    "            losses.append(loss.item())\n",
    "        scheduler.step()\n",
    "        # 计算验证集IoU\n",
    "        val_iou = cal_val_iou(model, valid_loader)\n",
    "        # 输出每一类IoU\n",
    "        print(\"\\t\".join(np.stack(val_iou).mean(0).round(3).astype(str)))\n",
    "        # 保存当前epoch的train_loss.val_mIoU.lr_epochs\n",
    "        train_loss_epochs.append(np.array(losses).mean())\n",
    "        val_mIoU_epochs.append(np.mean(val_iou))\n",
    "        lr_epochs.append(optimizer.param_groups[0]['lr'])\n",
    "        # 输出进程\n",
    "        print(raw_line.format(epoch, EPOCHES, np.array(losses).mean(), \n",
    "                              np.mean(val_iou), \n",
    "                              (time.time()-start_time)/60**1), end=\"\")    \n",
    "        if best_miou < np.stack(val_iou).mean(0).mean():\n",
    "            best_miou = np.stack(val_iou).mean(0).mean()\n",
    "            best_miou_epoch = epoch\n",
    "            torch.save(model.state_dict(), model_path)\n",
    "            model_path_full = 'modelfull.pth'\n",
    "            torch.save(model, model_path_full)\n",
    "            print(\"  valid mIoU is improved. the model is saved.\")\n",
    "        else:\n",
    "            print(\"\")\n",
    "            if (epoch - best_miou_epoch) >= early_stop:\n",
    "                break\n",
    "    return train_loss_epochs, val_mIoU_epochs, lr_epochs\n",
    "    \n",
    "# 不加主函数这句话的话,Dataloader多线程加载数据会报错\n",
    "if __name__ == '__main__':\n",
    "    EPOCHES = 20\n",
    "    BATCH_SIZE = 32\n",
    "    image_paths = glob.glob(r'data/train/*.jpg')\n",
    "    label_paths = []\n",
    "    for i in range(len(image_paths)):\n",
    "        label_paths.append(image_paths[i].replace(\"jpg\",\"png\"))\n",
    "    print(image_paths[0])\n",
    "    print(label_paths[0])\n",
    "\n",
    "    #label_paths = glob.glob(r'data/train/*.png')\n",
    "    # 每5个数据的第val_index个数据为验证集\n",
    "    val_index = 0\n",
    "    upsample = True\n",
    "    train_image_paths, train_label_paths, val_image_paths, val_label_paths = split_train_val(image_paths, \n",
    "                                                                                             label_paths, \n",
    "                                                                                             val_index)\n",
    "    channels = 3\n",
    "\n",
    "    optimizer_name = \"adamw\"\n",
    "    model_path = \"./model/deeplabv3+.pth\"\n",
    "    early_stop = 100\n",
    "    train_loss_epochs, val_mIoU_epochs, lr_epochs = train(EPOCHES, \n",
    "                                                          BATCH_SIZE, \n",
    "                                                          train_image_paths, \n",
    "                                                          train_label_paths, \n",
    "                                                          val_image_paths, \n",
    "                                                          val_label_paths, \n",
    "                                                          channels, \n",
    "                                                          optimizer_name,\n",
    "                                                          model_path,\n",
    "                                                          early_stop)\n",
    "    \n",
    "    if(True):    \n",
    "        import matplotlib.pyplot as plt\n",
    "    EPOCHES = 100\n",
    "\n",
    "    epochs = range(1, len(train_loss_epochs) + 1)\n",
    "    plt.plot(epochs, train_loss_epochs, 'r', label = 'train loss')\n",
    "    plt.plot(epochs, val_mIoU_epochs, 'b', label = 'val mIoU')\n",
    "    plt.title('train loss and val mIoU')\n",
    "    plt.legend()\n",
    "    plt.savefig(r\"../plt/train loss and val mIoU.png\",dpi = 300)\n",
    "    plt.figure()\n",
    "    plt.plot(epochs, lr_epochs, 'r', label = 'learning rate')\n",
    "    plt.title('learning rate')\n",
    "    plt.legend()\n",
    "    plt.savefig(r\"../plt/learning rate.png\", dpi = 300)\n",
    "    plt.show() "
   ]
  },
  {
   "cell_type": "code",
   "execution_count": null,
   "metadata": {},
   "outputs": [],
   "source": []
  }
 ],
 "metadata": {
  "kernelspec": {
   "display_name": "Python 3",
   "language": "python",
   "name": "python3"
  },
  "language_info": {
   "codemirror_mode": {
    "name": "ipython",
    "version": 3
   },
   "file_extension": ".py",
   "mimetype": "text/x-python",
   "name": "python",
   "nbconvert_exporter": "python",
   "pygments_lexer": "ipython3",
   "version": "3.8.5"
  }
 },
 "nbformat": 4,
 "nbformat_minor": 4
}
